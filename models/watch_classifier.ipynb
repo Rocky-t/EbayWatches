{
 "cells": [
  {
   "cell_type": "markdown",
   "metadata": {},
   "source": [
    "# Training a model to identify watches\n",
    "\n",
    "Data: scraped from ebay listings\n",
    "\n",
    "Categories: ['rolex','omega','seiko','invicta','hamilton','tissot','bulova','timex','elgin','unbranded/other']"
   ]
  },
  {
   "cell_type": "code",
   "execution_count": 11,
   "metadata": {
    "ExecuteTime": {
     "end_time": "2019-10-04T07:28:23.886286Z",
     "start_time": "2019-10-04T07:28:19.811768Z"
    }
   },
   "outputs": [],
   "source": [
    "%matplotlib inline\n",
    "\n",
    "import numpy as np\n",
    "import matplotlib.pylab as plt\n",
    "from tensorflow import keras\n",
    "from tensorflow.keras.models import Sequential\n",
    "from tensorflow.keras.layers import Dense, Dropout, Flatten\n",
    "from tensorflow.keras.layers import Conv2D, MaxPooling2D\n",
    "from tensorflow.keras.datasets import mnist\n",
    "import pandas as pd\n",
    "import csv\n",
    "from PIL import Image\n",
    "from numpy import asarray"
   ]
  },
  {
   "cell_type": "markdown",
   "metadata": {},
   "source": [
    "# Data preparation"
   ]
  },
  {
   "cell_type": "code",
   "execution_count": 45,
   "metadata": {},
   "outputs": [],
   "source": [
    "def get_image(image_name):\n",
    "    image = Image.open(f\"../training_data/{image_name}.jpg\")\n",
    "    img_data = asarray(image).astype('float32')\n",
    "    return img_data"
   ]
  },
  {
   "cell_type": "code",
   "execution_count": 46,
   "metadata": {
    "ExecuteTime": {
     "end_time": "2019-09-30T20:12:46.465418Z",
     "start_time": "2019-09-30T20:12:46.027204Z"
    },
    "scrolled": true
   },
   "outputs": [
    {
     "data": {
      "text/html": [
       "<div>\n",
       "<style scoped>\n",
       "    .dataframe tbody tr th:only-of-type {\n",
       "        vertical-align: middle;\n",
       "    }\n",
       "\n",
       "    .dataframe tbody tr th {\n",
       "        vertical-align: top;\n",
       "    }\n",
       "\n",
       "    .dataframe thead th {\n",
       "        text-align: right;\n",
       "    }\n",
       "</style>\n",
       "<table border=\"1\" class=\"dataframe\">\n",
       "  <thead>\n",
       "    <tr style=\"text-align: right;\">\n",
       "      <th></th>\n",
       "      <th>name</th>\n",
       "      <th>type</th>\n",
       "      <th>image</th>\n",
       "    </tr>\n",
       "  </thead>\n",
       "  <tbody>\n",
       "    <tr>\n",
       "      <th>0</th>\n",
       "      <td>watch0</td>\n",
       "      <td>rolex</td>\n",
       "      <td>[[[238.0, 236.0, 237.0], [238.0, 236.0, 237.0]...</td>\n",
       "    </tr>\n",
       "    <tr>\n",
       "      <th>1</th>\n",
       "      <td>watch1</td>\n",
       "      <td>rolex</td>\n",
       "      <td>[[[234.0, 236.0, 233.0], [234.0, 236.0, 233.0]...</td>\n",
       "    </tr>\n",
       "    <tr>\n",
       "      <th>2</th>\n",
       "      <td>watch2</td>\n",
       "      <td>rolex</td>\n",
       "      <td>[[[255.0, 255.0, 255.0], [255.0, 255.0, 255.0]...</td>\n",
       "    </tr>\n",
       "    <tr>\n",
       "      <th>3</th>\n",
       "      <td>watch3</td>\n",
       "      <td>rolex</td>\n",
       "      <td>[[[37.0, 36.0, 41.0], [37.0, 36.0, 41.0], [37....</td>\n",
       "    </tr>\n",
       "    <tr>\n",
       "      <th>4</th>\n",
       "      <td>watch4</td>\n",
       "      <td>rolex</td>\n",
       "      <td>[[[234.0, 236.0, 233.0], [234.0, 236.0, 233.0]...</td>\n",
       "    </tr>\n",
       "  </tbody>\n",
       "</table>\n",
       "</div>"
      ],
      "text/plain": [
       "     name   type                                              image\n",
       "0  watch0  rolex  [[[238.0, 236.0, 237.0], [238.0, 236.0, 237.0]...\n",
       "1  watch1  rolex  [[[234.0, 236.0, 233.0], [234.0, 236.0, 233.0]...\n",
       "2  watch2  rolex  [[[255.0, 255.0, 255.0], [255.0, 255.0, 255.0]...\n",
       "3  watch3  rolex  [[[37.0, 36.0, 41.0], [37.0, 36.0, 41.0], [37....\n",
       "4  watch4  rolex  [[[234.0, 236.0, 233.0], [234.0, 236.0, 233.0]..."
      ]
     },
     "execution_count": 46,
     "metadata": {},
     "output_type": "execute_result"
    }
   ],
   "source": [
    "#read in csv to pandas df\n",
    "df = pd.read_csv('../data_management/watch_labels.csv', sep=',',names=['name', 'type', 'link'])\n",
    "#drop the link column and add image column (npy image)\n",
    "df.drop(['link'], axis=1,inplace=True)\n",
    "df[\"image\"] = df[\"name\"].apply(get_image)\n",
    "df.head()"
   ]
  },
  {
   "cell_type": "code",
   "execution_count": 47,
   "metadata": {},
   "outputs": [
    {
     "name": "stdout",
     "output_type": "stream",
     "text": [
      "(300, 200, 3)\n"
     ]
    }
   ],
   "source": [
    "print(df.iloc[3]['image'].shape)"
   ]
  },
  {
   "cell_type": "code",
   "execution_count": 49,
   "metadata": {},
   "outputs": [
    {
     "name": "stdout",
     "output_type": "stream",
     "text": [
      "(73270,) (73270,)\n"
     ]
    }
   ],
   "source": [
    "#convert to npy arrays for training and test\n",
    "X = df['image'].to_numpy()\n",
    "Y = df['type'].to_numpy()\n",
    "print(X.shape,Y.shape)\n",
    "\n",
    "x_train = X[0:60000]\n",
    "y_train = Y[0:60000]\n",
    "x_test = X[60000:]\n",
    "y_test = Y[60000:]\n"
   ]
  },
  {
   "cell_type": "code",
   "execution_count": 51,
   "metadata": {},
   "outputs": [
    {
     "name": "stdout",
     "output_type": "stream",
     "text": [
      "Model: \"sequential_4\"\n",
      "_________________________________________________________________\n",
      " Layer (type)                Output Shape              Param #   \n",
      "=================================================================\n",
      " conv2d_10 (Conv2D)          (None, 300, 200, 20)      1520      \n",
      "                                                                 \n",
      " max_pooling2d_10 (MaxPoolin  (None, 150, 100, 20)     0         \n",
      " g2D)                                                            \n",
      "                                                                 \n",
      " conv2d_11 (Conv2D)          (None, 150, 100, 20)      10020     \n",
      "                                                                 \n",
      " max_pooling2d_11 (MaxPoolin  (None, 75, 50, 20)       0         \n",
      " g2D)                                                            \n",
      "                                                                 \n",
      " flatten_5 (Flatten)         (None, 75000)             0         \n",
      "                                                                 \n",
      " dropout_5 (Dropout)         (None, 75000)             0         \n",
      "                                                                 \n",
      " dense_4 (Dense)             (None, 10)                750010    \n",
      "                                                                 \n",
      "=================================================================\n",
      "Total params: 761,550\n",
      "Trainable params: 761,550\n",
      "Non-trainable params: 0\n",
      "_________________________________________________________________\n",
      "(None, 300, 200, 3) <dtype: 'float32'>\n"
     ]
    },
    {
     "data": {
      "text/plain": [
       "[None]"
      ]
     },
     "execution_count": 51,
     "metadata": {},
     "output_type": "execute_result"
    }
   ],
   "source": [
    "i_shape = (300, 200, 3)\n",
    "\n",
    "model = Sequential([\n",
    "    Conv2D(filters=20, kernel_size=(5,5), strides=(1, 1), input_shape=[28,28,1], padding='same'),\n",
    "    MaxPooling2D(pool_size=(2, 2), strides=2),\n",
    "    Conv2D(filters=20, kernel_size=(5,5), strides=(1, 1), input_shape=[14,14,1], padding='same'),\n",
    "    MaxPooling2D(pool_size=(2, 2), strides=2),\n",
    "    Flatten(), # flattens into one vector\n",
    "    keras.layers.Dropout(0.5),\n",
    "    Dense(num_classes, activation=\"softmax\") #the 10 ouput neurons\n",
    "])\n",
    "\n",
    "model.summary()\n",
    "batch_size = 128\n",
    "epochs = 15\n",
    "\n",
    "model.compile(loss=\"categorical_crossentropy\", optimizer=\"adam\", metrics=[\"accuracy\"])\n",
    "\n",
    "model.fit(x_train, y_train, batch_size=batch_size, epochs=epochs, validation_split=0.1)"
   ]
  },
  {
   "cell_type": "code",
   "execution_count": null,
   "metadata": {},
   "outputs": [],
   "source": []
  }
 ],
 "metadata": {
  "kernelspec": {
   "display_name": "Python 3.10 (tensorflow)",
   "language": "python",
   "name": "tensorflow"
  },
  "language_info": {
   "codemirror_mode": {
    "name": "ipython",
    "version": 3
   },
   "file_extension": ".py",
   "mimetype": "text/x-python",
   "name": "python",
   "nbconvert_exporter": "python",
   "pygments_lexer": "ipython3",
   "version": "3.10.9"
  },
  "toc": {
   "base_numbering": 1,
   "nav_menu": {},
   "number_sections": false,
   "sideBar": true,
   "skip_h1_title": false,
   "title_cell": "Table of Contents",
   "title_sidebar": "Contents",
   "toc_cell": false,
   "toc_position": {},
   "toc_section_display": true,
   "toc_window_display": true
  },
  "varInspector": {
   "cols": {
    "lenName": 16,
    "lenType": 16,
    "lenVar": 40
   },
   "kernels_config": {
    "python": {
     "delete_cmd_postfix": "",
     "delete_cmd_prefix": "del ",
     "library": "var_list.py",
     "varRefreshCmd": "print(var_dic_list())"
    },
    "r": {
     "delete_cmd_postfix": ") ",
     "delete_cmd_prefix": "rm(",
     "library": "var_list.r",
     "varRefreshCmd": "cat(var_dic_list()) "
    }
   },
   "types_to_exclude": [
    "module",
    "function",
    "builtin_function_or_method",
    "instance",
    "_Feature"
   ],
   "window_display": false
  }
 },
 "nbformat": 4,
 "nbformat_minor": 2
}
